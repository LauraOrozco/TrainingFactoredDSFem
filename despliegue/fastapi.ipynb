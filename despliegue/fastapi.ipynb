{
 "cells": [
  {
   "cell_type": "code",
   "execution_count": 1,
   "metadata": {},
   "outputs": [],
   "source": [
    "import numpy as np\n",
    "import pandas as pd\n",
    "import dill\n",
    "from fastapi import FastAPI, File\n",
    "from fastapi.responses import JSONResponse\n",
    "from pydantic import BaseModel\n",
    "from transformers import TransformerFechas, TransformerDistancia, TransformerVelocidad\n",
    "app = FastAPI(title=\"Taxi Trips Duration Predictor\")"
   ]
  },
  {
   "cell_type": "code",
   "execution_count": 2,
   "metadata": {},
   "outputs": [],
   "source": [
    "# import the preprocessor\n",
    "with open(\"preprocesser.pkl\", \"rb\") as f:\n",
    "    preprocessor = dill.load(f)\n",
    "# import the model\n",
    "with open(\"lr_model.pkl\", \"rb\") as f:\n",
    "    model = dill.load(f)"
   ]
  },
  {
   "cell_type": "code",
   "execution_count": 3,
   "metadata": {},
   "outputs": [
    {
     "name": "stderr",
     "output_type": "stream",
     "text": [
      "INFO:     Will watch for changes in these directories: ['/Users/lorozcoceron/Desktop/training_factored/despliegue']\n",
      "INFO:     Uvicorn running on http://127.0.0.1:3000 (Press CTRL+C to quit)\n",
      "INFO:     Started reloader process [5225] using statreload\n",
      "WARNING:  StatReload detected file change in 'main.py'. Reloading...\n"
     ]
    }
   ],
   "source": [
    "@app.get(\"/\", response_class=JSONResponse)\n",
    "def get_funct(\n",
    "    vendor_id: int,\n",
    "    pickup_datetime: str,\n",
    "    passenger_count: int,\n",
    "    pickup_longitude: float,\n",
    "    pickup_latitude: float,\n",
    "    dropoff_longitude: float,\n",
    "    dropoff_latitude: float,\n",
    "    pickup_borough: str,\n",
    "    dropoff_borough: str,\n",
    "):\n",
    "    \"\"\"Serves predictions given query parameters specifying the taxi trip's\n",
    "    features from a single example.\n",
    "\n",
    "    Args:\n",
    "        vendor_id (int): a code indicating the provider associated with the trip record\n",
    "        pickup_datetime (str): date and time when the meter was engaged\n",
    "        passenger_count (float): the number of passengers in the vehicle\n",
    "        (driver entered value)\n",
    "        pickup_longitude (float): the longitude where the meter was engaged\n",
    "        pickup_latitude (float): the latitude where the meter was engaged\n",
    "        dropoff_longitude (float): the longitude where the meter was disengaged\n",
    "        dropoff_latitude (float): the latitude where the meter was disengaged\n",
    "        pickup_borough (str): the borough where the meter was engaged\n",
    "        dropoff_borough (str): the borough where the meter was disengaged\n",
    "\n",
    "    Returns:\n",
    "        [JSON]: model prediction for the single example given\n",
    "    \"\"\"\n",
    "    df = pd.DataFrame(\n",
    "        [\n",
    "            [\n",
    "                vendor_id,\n",
    "                pickup_datetime,\n",
    "                passenger_count,\n",
    "                pickup_longitude,\n",
    "                pickup_latitude,\n",
    "                dropoff_longitude,\n",
    "                dropoff_latitude,\n",
    "                pickup_borough,\n",
    "                dropoff_borough,\n",
    "            ]\n",
    "        ],\n",
    "        columns=[\n",
    "            \"vendor_id\",\n",
    "            \"pickup_datetime\",\n",
    "            \"passenger_count\",\n",
    "            \"pickup_longitude\",\n",
    "            \"pickup_latitude\",\n",
    "            \"dropoff_longitude\",\n",
    "            \"dropoff_latitude\",\n",
    "            \"pickup_borough\",\n",
    "            \"dropoff_borough\",\n",
    "        ],\n",
    "    )\n",
    "    prediction = model.predict(preprocessor.transform(df))\n",
    "    return {\n",
    "        \"features\": {\n",
    "            \"vendor_id\": vendor_id,\n",
    "            \"pickup_datetime\": pickup_datetime,\n",
    "            \"passenger_count\": passenger_count,\n",
    "            \"pickup_longitude\": pickup_longitude,\n",
    "            \"pickup_latitude\": pickup_latitude,\n",
    "            \"dropoff_longitude\": dropoff_longitude,\n",
    "            \"dropoff_latitude\": dropoff_latitude,\n",
    "            \"pickup_borough\": pickup_borough,\n",
    "            \"dropoff_borough\": dropoff_borough,\n",
    "        },\n",
    "        \"prediction\": list(prediction)[0],\n",
    "    }\n",
    "\n",
    "\n",
    "if __name__ == \"__main__\":\n",
    "    import uvicorn\n",
    "\n",
    "    # For local development:\n",
    "    uvicorn.run(\"main:app\", port=3000, reload=True)"
   ]
  }
 ],
 "metadata": {
  "interpreter": {
   "hash": "31f2aee4e71d21fbe5cf8b01ff0e069b9275f58929596ceb00d14d90e3e16cd6"
  },
  "kernelspec": {
   "display_name": "Python 3.8.2 64-bit",
   "name": "python3"
  },
  "language_info": {
   "codemirror_mode": {
    "name": "ipython",
    "version": 3
   },
   "file_extension": ".py",
   "mimetype": "text/x-python",
   "name": "python",
   "nbconvert_exporter": "python",
   "pygments_lexer": "ipython3",
   "version": "3.8.8"
  },
  "orig_nbformat": 4
 },
 "nbformat": 4,
 "nbformat_minor": 2
}